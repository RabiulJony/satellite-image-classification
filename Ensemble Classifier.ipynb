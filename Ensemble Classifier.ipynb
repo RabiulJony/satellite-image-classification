{
 "cells": [
  {
   "cell_type": "code",
   "execution_count": 1,
   "metadata": {
    "collapsed": true
   },
   "outputs": [],
   "source": [
    "from __future__ import print_function, division\n",
    "\n",
    "# Import GDAL, NumPy, and matplotlib\n",
    "from osgeo import gdal, gdal_array\n",
    "import numpy as np\n",
    "import matplotlib.pyplot as plt\n",
    "import os\n",
    "import glob\n",
    "%matplotlib inline\n",
    "\n",
    "# Tell GDAL to throw Python exceptions, and register all drivers\n",
    "gdal.UseExceptions()\n",
    "gdal.AllRegister()\n",
    "\n",
    "\n",
    "in_directory = r\"R:/Work/medieval 2017/FDSI Dev/allofthem\"\n",
    "files_to_process = glob.glob(os.path.join(in_directory, '*.tif'))\n",
    "files = files_to_process[0:463]\n",
    "images = []\n",
    "for f in files:\n",
    "    raster_dataset = gdal.Open(f, gdal.GA_ReadOnly)\n",
    "    img = np.zeros((raster_dataset.RasterYSize, raster_dataset.RasterXSize, raster_dataset.RasterCount),dtype=gdal_array.GDALTypeCodeToNumericTypeCode(raster_dataset.GetRasterBand(1).DataType))\n",
    "    for b in range(raster_dataset.RasterCount):\n",
    "        band = raster_dataset.GetRasterBand(b + 1)\n",
    "        img[:, :, b] = band.ReadAsArray()\n",
    "    if files_to_process is not None:\n",
    "        images.append(img)"
   ]
  },
  {
   "cell_type": "code",
   "execution_count": null,
   "metadata": {
    "collapsed": true
   },
   "outputs": [],
   "source": []
  },
  {
   "cell_type": "code",
   "execution_count": null,
   "metadata": {
    "collapsed": true
   },
   "outputs": [],
   "source": []
  },
  {
   "cell_type": "code",
   "execution_count": 2,
   "metadata": {
    "collapsed": true
   },
   "outputs": [],
   "source": [
    "in_directory = r\"R:/Work/medieval 2017/FDSI Dev/allofthem_masks\"\n",
    "files_to_process_mask = glob.glob(os.path.join(in_directory, '*.png'))\n",
    "files_mask = files_to_process_mask[0:463]\n",
    "masks = []\n",
    "for m in files_mask:\n",
    "    roi_ds = gdal.Open(m, gdal.GA_ReadOnly)\n",
    "    roi = roi_ds.GetRasterBand(1).ReadAsArray()\n",
    "   \n",
    "    if files_to_process_mask is not None:\n",
    "        masks.append(roi)"
   ]
  },
  {
   "cell_type": "code",
   "execution_count": null,
   "metadata": {
    "collapsed": true
   },
   "outputs": [],
   "source": []
  },
  {
   "cell_type": "code",
   "execution_count": null,
   "metadata": {
    "collapsed": true
   },
   "outputs": [],
   "source": []
  },
  {
   "cell_type": "code",
   "execution_count": 3,
   "metadata": {
    "collapsed": true
   },
   "outputs": [],
   "source": [
    "X=np.vstack(images)"
   ]
  },
  {
   "cell_type": "code",
   "execution_count": null,
   "metadata": {
    "collapsed": true
   },
   "outputs": [],
   "source": []
  },
  {
   "cell_type": "code",
   "execution_count": 4,
   "metadata": {
    "collapsed": true
   },
   "outputs": [],
   "source": [
    "Y=np.vstack(masks)"
   ]
  },
  {
   "cell_type": "code",
   "execution_count": null,
   "metadata": {
    "collapsed": true
   },
   "outputs": [],
   "source": []
  },
  {
   "cell_type": "code",
   "execution_count": 5,
   "metadata": {},
   "outputs": [
    {
     "name": "stdout",
     "output_type": "stream",
     "text": [
      "We have 47308800 samples\n",
      "The training data include 2 classes: [0 1]\n",
      "Our X matrix is sized: (47308800, 4)\n",
      "Our y array is sized: (47308800,)\n",
      "After masking, our X matrix is sized: (47308800, 4)\n",
      "After masking, our y array is sized: (47308800,)\n"
     ]
    }
   ],
   "source": [
    "# Find how many non-zero entries we have -- i.e. how many training data samples?\n",
    "n_samples = (Y>=0).sum()\n",
    "print('We have {n} samples'.format(n=n_samples))\n",
    "\n",
    "# What are our classification labels?\n",
    "labels = np.unique(roi)\n",
    "print('The training data include {n} classes: {classes}'.format(n=labels.size, \n",
    "                                                                classes=labels))\n",
    "# We will need a \"X\" matrix containing our features, and a \"y\" array containing our labels\n",
    "#     These will have n_samples rows\n",
    "#     In other languages we would need to allocate these and them loop to fill them, but NumPy can be faster\n",
    "\n",
    "s = X[Y >= 0] \n",
    "l = Y[Y >= 0]\n",
    "\n",
    "print('Our X matrix is sized: {sz}'.format(sz=s.shape))\n",
    "print('Our y array is sized: {sz}'.format(sz=l.shape))\n",
    "\n",
    "\n",
    "print('After masking, our X matrix is sized: {sz}'.format(sz=s.shape))\n",
    "print('After masking, our y array is sized: {sz}'.format(sz=l.shape))"
   ]
  },
  {
   "cell_type": "code",
   "execution_count": null,
   "metadata": {
    "collapsed": true
   },
   "outputs": [],
   "source": []
  },
  {
   "cell_type": "code",
   "execution_count": 6,
   "metadata": {
    "collapsed": true
   },
   "outputs": [],
   "source": [
    "from sklearn.svm import LinearSVC\n",
    "SVM = LinearSVC(dual=False, random_state=0, max_iter=1000)\n",
    "from sklearn.ensemble import RandomForestClassifier\n",
    "RF = RandomForestClassifier(n_estimators=5,max_depth=2,max_features=None, random_state=0)\n",
    "from sklearn.naive_bayes import GaussianNB\n",
    "MLC = GaussianNB()\n",
    "from sklearn.ensemble import VotingClassifier\n",
    "eclf = VotingClassifier(estimators=[('SVM', SVM), ('RF', RF), ('MLC', MLC)], voting='hard')"
   ]
  },
  {
   "cell_type": "code",
   "execution_count": null,
   "metadata": {
    "collapsed": true
   },
   "outputs": [],
   "source": []
  },
  {
   "cell_type": "code",
   "execution_count": 7,
   "metadata": {
    "collapsed": true
   },
   "outputs": [],
   "source": [
    "ECLF = eclf.fit(s,l)"
   ]
  },
  {
   "cell_type": "code",
   "execution_count": null,
   "metadata": {
    "collapsed": true
   },
   "outputs": [],
   "source": []
  },
  {
   "cell_type": "code",
   "execution_count": 8,
   "metadata": {
    "collapsed": true
   },
   "outputs": [],
   "source": [
    "in_directory = r\"R:/Work/medieval 2017/FDSI Test/test_set/testset_01_satellite_images\"\n",
    "files_to_process = glob.glob(os.path.join(in_directory, '*.tif'))\n",
    "files = files_to_process[0:100]\n",
    "images = []\n",
    "for f in files:\n",
    "    raster_dataset = gdal.Open(f, gdal.GA_ReadOnly)\n",
    "    img = np.zeros((raster_dataset.RasterYSize, raster_dataset.RasterXSize, raster_dataset.RasterCount),dtype=gdal_array.GDALTypeCodeToNumericTypeCode(raster_dataset.GetRasterBand(1).DataType))\n",
    "    for b in range(raster_dataset.RasterCount):\n",
    "        band = raster_dataset.GetRasterBand(b + 1)\n",
    "        img[:, :, b] = band.ReadAsArray()\n",
    "    if files_to_process is not None:\n",
    "        images.append(img)"
   ]
  },
  {
   "cell_type": "code",
   "execution_count": null,
   "metadata": {
    "collapsed": true
   },
   "outputs": [],
   "source": []
  },
  {
   "cell_type": "code",
   "execution_count": 9,
   "metadata": {
    "collapsed": true
   },
   "outputs": [],
   "source": [
    "TX =np.vstack(images)\n",
    "test_pixels = np.vstack(TX)"
   ]
  },
  {
   "cell_type": "code",
   "execution_count": null,
   "metadata": {
    "collapsed": true
   },
   "outputs": [],
   "source": []
  },
  {
   "cell_type": "code",
   "execution_count": 10,
   "metadata": {
    "collapsed": true
   },
   "outputs": [],
   "source": [
    "test_result = ECLF.predict(test_pixels)"
   ]
  },
  {
   "cell_type": "code",
   "execution_count": null,
   "metadata": {
    "collapsed": true
   },
   "outputs": [],
   "source": []
  },
  {
   "cell_type": "code",
   "execution_count": 11,
   "metadata": {
    "collapsed": true
   },
   "outputs": [],
   "source": [
    "in_directory = r\"R:/Work/medieval 2017/FDSI Test/test_set/testset_01_segmentation_masks\"\n",
    "files_to_process_mask = glob.glob(os.path.join(in_directory, '*.png'))\n",
    "files_mask = files_to_process_mask[0:100]\n",
    "masks = []\n",
    "for m in files_mask:\n",
    "    roi_ds = gdal.Open(m, gdal.GA_ReadOnly)\n",
    "    roi = roi_ds.GetRasterBand(1).ReadAsArray()\n",
    "   \n",
    "    if files_to_process_mask is not None:\n",
    "        masks.append(roi)"
   ]
  },
  {
   "cell_type": "code",
   "execution_count": null,
   "metadata": {
    "collapsed": true
   },
   "outputs": [],
   "source": []
  },
  {
   "cell_type": "code",
   "execution_count": null,
   "metadata": {
    "collapsed": true
   },
   "outputs": [],
   "source": []
  },
  {
   "cell_type": "code",
   "execution_count": 12,
   "metadata": {
    "collapsed": true
   },
   "outputs": [],
   "source": [
    "TY=np.vstack(masks)\n",
    "T=np.concatenate(TY, axis=0)"
   ]
  },
  {
   "cell_type": "code",
   "execution_count": null,
   "metadata": {
    "collapsed": true
   },
   "outputs": [],
   "source": []
  },
  {
   "cell_type": "code",
   "execution_count": 13,
   "metadata": {},
   "outputs": [
    {
     "data": {
      "text/plain": [
       "0.68582440776209674"
      ]
     },
     "execution_count": 13,
     "metadata": {},
     "output_type": "execute_result"
    }
   ],
   "source": [
    "from sklearn.metrics import accuracy_score\n",
    "accuracy_score(T, test_result)"
   ]
  },
  {
   "cell_type": "code",
   "execution_count": null,
   "metadata": {
    "collapsed": true
   },
   "outputs": [],
   "source": []
  },
  {
   "cell_type": "code",
   "execution_count": 19,
   "metadata": {
    "collapsed": true
   },
   "outputs": [],
   "source": [
    "in_directory = r\"R:/Work/medieval 2017/FDSI Test/test_set/testset_02_satellite_images\"\n",
    "files_to_process = glob.glob(os.path.join(in_directory, '*.tif'))\n",
    "files = files_to_process[0:50]\n",
    "images = []\n",
    "for f in files:\n",
    "    raster_dataset = gdal.Open(f, gdal.GA_ReadOnly)\n",
    "    img = np.zeros((raster_dataset.RasterYSize, raster_dataset.RasterXSize, raster_dataset.RasterCount),dtype=gdal_array.GDALTypeCodeToNumericTypeCode(raster_dataset.GetRasterBand(1).DataType))\n",
    "    for b in range(raster_dataset.RasterCount):\n",
    "        band = raster_dataset.GetRasterBand(b + 1)\n",
    "        img[:, :, b] = band.ReadAsArray()\n",
    "    if files_to_process is not None:\n",
    "        images.append(img)"
   ]
  },
  {
   "cell_type": "code",
   "execution_count": 20,
   "metadata": {
    "collapsed": true
   },
   "outputs": [],
   "source": [
    "TX =np.vstack(images)\n",
    "test_pixels = np.vstack(TX)"
   ]
  },
  {
   "cell_type": "code",
   "execution_count": 21,
   "metadata": {
    "collapsed": true
   },
   "outputs": [],
   "source": [
    "in_directory = r\"R:/Work/medieval 2017/FDSI Test/test_set/testset_02_segmentation_masks\"\n",
    "files_to_process_mask = glob.glob(os.path.join(in_directory, '*.png'))\n",
    "files_mask = files_to_process_mask[0:50]\n",
    "masks = []\n",
    "for m in files_mask:\n",
    "    roi_ds = gdal.Open(m, gdal.GA_ReadOnly)\n",
    "    roi = roi_ds.GetRasterBand(1).ReadAsArray()\n",
    "   \n",
    "    if files_to_process_mask is not None:\n",
    "        masks.append(roi)"
   ]
  },
  {
   "cell_type": "code",
   "execution_count": 22,
   "metadata": {
    "collapsed": true
   },
   "outputs": [],
   "source": [
    "test_result = ECLF.predict(test_pixels)"
   ]
  },
  {
   "cell_type": "code",
   "execution_count": 23,
   "metadata": {
    "collapsed": true
   },
   "outputs": [],
   "source": [
    "TY=np.vstack(masks)\n",
    "T=np.concatenate(TY, axis=0)"
   ]
  },
  {
   "cell_type": "code",
   "execution_count": 24,
   "metadata": {},
   "outputs": [
    {
     "data": {
      "text/plain": [
       "0.59622985839843745"
      ]
     },
     "execution_count": 24,
     "metadata": {},
     "output_type": "execute_result"
    }
   ],
   "source": [
    "accuracy_score(T, test_result)"
   ]
  },
  {
   "cell_type": "code",
   "execution_count": 25,
   "metadata": {
    "collapsed": true
   },
   "outputs": [],
   "source": [
    "in_directory = r\"R:/Work/medieval 2017/FDSI Test/test_set/testset_03_satellite_images\"\n",
    "files_to_process = glob.glob(os.path.join(in_directory, '*.tif'))\n",
    "files = files_to_process[0:70]\n",
    "images = []\n",
    "for f in files:\n",
    "    raster_dataset = gdal.Open(f, gdal.GA_ReadOnly)\n",
    "    img = np.zeros((raster_dataset.RasterYSize, raster_dataset.RasterXSize, raster_dataset.RasterCount),dtype=gdal_array.GDALTypeCodeToNumericTypeCode(raster_dataset.GetRasterBand(1).DataType))\n",
    "    for b in range(raster_dataset.RasterCount):\n",
    "        band = raster_dataset.GetRasterBand(b + 1)\n",
    "        img[:, :, b] = band.ReadAsArray()\n",
    "    if files_to_process is not None:\n",
    "        images.append(img)"
   ]
  },
  {
   "cell_type": "code",
   "execution_count": 26,
   "metadata": {
    "collapsed": true
   },
   "outputs": [],
   "source": [
    "TX =np.vstack(images)\n",
    "test_pixels = np.vstack(TX)"
   ]
  },
  {
   "cell_type": "code",
   "execution_count": 27,
   "metadata": {
    "collapsed": true
   },
   "outputs": [],
   "source": [
    "test_result = ECLF.predict(test_pixels)"
   ]
  },
  {
   "cell_type": "code",
   "execution_count": 30,
   "metadata": {
    "collapsed": true
   },
   "outputs": [],
   "source": [
    "in_directory = r\"R:/Work/medieval 2017/FDSI Test/test_set/testset_03_segmentation_masks\"\n",
    "files_to_process_mask = glob.glob(os.path.join(in_directory, '*.png'))\n",
    "files_mask = files_to_process_mask[0:70]\n",
    "masks = []\n",
    "for m in files_mask:\n",
    "    roi_ds = gdal.Open(m, gdal.GA_ReadOnly)\n",
    "    roi = roi_ds.GetRasterBand(1).ReadAsArray()\n",
    "   \n",
    "    if files_to_process_mask is not None:\n",
    "        masks.append(roi)"
   ]
  },
  {
   "cell_type": "code",
   "execution_count": null,
   "metadata": {
    "collapsed": true
   },
   "outputs": [],
   "source": []
  },
  {
   "cell_type": "code",
   "execution_count": 31,
   "metadata": {
    "collapsed": true
   },
   "outputs": [],
   "source": [
    "TY=np.vstack(masks)\n",
    "T=np.concatenate(TY, axis=0)"
   ]
  },
  {
   "cell_type": "code",
   "execution_count": null,
   "metadata": {
    "collapsed": true
   },
   "outputs": [],
   "source": []
  },
  {
   "cell_type": "code",
   "execution_count": 32,
   "metadata": {},
   "outputs": [
    {
     "data": {
      "text/plain": [
       "0.6217258673199153"
      ]
     },
     "execution_count": 32,
     "metadata": {},
     "output_type": "execute_result"
    }
   ],
   "source": [
    "accuracy_score(T, test_result)"
   ]
  },
  {
   "cell_type": "code",
   "execution_count": 33,
   "metadata": {
    "collapsed": true
   },
   "outputs": [],
   "source": [
    "in_directory = r\"R:/Work/medieval 2017/FDSI Test/test_set/testset_04_satellite_images\"\n",
    "files_to_process = glob.glob(os.path.join(in_directory, '*.tif'))\n",
    "files = files_to_process[0:70]\n",
    "images = []\n",
    "for f in files:\n",
    "    raster_dataset = gdal.Open(f, gdal.GA_ReadOnly)\n",
    "    img = np.zeros((raster_dataset.RasterYSize, raster_dataset.RasterXSize, raster_dataset.RasterCount),dtype=gdal_array.GDALTypeCodeToNumericTypeCode(raster_dataset.GetRasterBand(1).DataType))\n",
    "    for b in range(raster_dataset.RasterCount):\n",
    "        band = raster_dataset.GetRasterBand(b + 1)\n",
    "        img[:, :, b] = band.ReadAsArray()\n",
    "    if files_to_process is not None:\n",
    "        images.append(img)"
   ]
  },
  {
   "cell_type": "code",
   "execution_count": 34,
   "metadata": {
    "collapsed": true
   },
   "outputs": [],
   "source": [
    "TX =np.vstack(images)\n",
    "test_pixels = np.vstack(TX)"
   ]
  },
  {
   "cell_type": "code",
   "execution_count": 35,
   "metadata": {
    "collapsed": true
   },
   "outputs": [],
   "source": [
    "test_result = ECLF.predict(test_pixels)"
   ]
  },
  {
   "cell_type": "code",
   "execution_count": 36,
   "metadata": {
    "collapsed": true
   },
   "outputs": [],
   "source": [
    "in_directory = r\"R:/Work/medieval 2017/FDSI Test/test_set/testset_04_segmentation_masks\"\n",
    "files_to_process_mask = glob.glob(os.path.join(in_directory, '*.png'))\n",
    "files_mask = files_to_process_mask[0:70]\n",
    "masks = []\n",
    "for m in files_mask:\n",
    "    roi_ds = gdal.Open(m, gdal.GA_ReadOnly)\n",
    "    roi = roi_ds.GetRasterBand(1).ReadAsArray()\n",
    "   \n",
    "    if files_to_process_mask is not None:\n",
    "        masks.append(roi)"
   ]
  },
  {
   "cell_type": "code",
   "execution_count": 37,
   "metadata": {
    "collapsed": true
   },
   "outputs": [],
   "source": [
    "TY=np.vstack(masks)\n",
    "T=np.concatenate(TY, axis=0)"
   ]
  },
  {
   "cell_type": "code",
   "execution_count": 38,
   "metadata": {},
   "outputs": [
    {
     "data": {
      "text/plain": [
       "0.87694213867187498"
      ]
     },
     "execution_count": 38,
     "metadata": {},
     "output_type": "execute_result"
    }
   ],
   "source": [
    "accuracy_score(T, test_result)"
   ]
  },
  {
   "cell_type": "code",
   "execution_count": 39,
   "metadata": {
    "collapsed": true
   },
   "outputs": [],
   "source": [
    "in_directory = r\"R:/Work/medieval 2017/FDSI Test/test_set/testset_05_satellite_images\"\n",
    "files_to_process = glob.glob(os.path.join(in_directory, '*.tif'))\n",
    "files = files_to_process[0:70]\n",
    "images = []\n",
    "for f in files:\n",
    "    raster_dataset = gdal.Open(f, gdal.GA_ReadOnly)\n",
    "    img = np.zeros((raster_dataset.RasterYSize, raster_dataset.RasterXSize, raster_dataset.RasterCount),dtype=gdal_array.GDALTypeCodeToNumericTypeCode(raster_dataset.GetRasterBand(1).DataType))\n",
    "    for b in range(raster_dataset.RasterCount):\n",
    "        band = raster_dataset.GetRasterBand(b + 1)\n",
    "        img[:, :, b] = band.ReadAsArray()\n",
    "    if files_to_process is not None:\n",
    "        images.append(img)"
   ]
  },
  {
   "cell_type": "code",
   "execution_count": 40,
   "metadata": {
    "collapsed": true
   },
   "outputs": [],
   "source": [
    "TX =np.vstack(images)\n",
    "test_pixels = np.vstack(TX)"
   ]
  },
  {
   "cell_type": "code",
   "execution_count": 41,
   "metadata": {
    "collapsed": true
   },
   "outputs": [],
   "source": [
    "test_result = ECLF.predict(test_pixels)"
   ]
  },
  {
   "cell_type": "code",
   "execution_count": 42,
   "metadata": {
    "collapsed": true
   },
   "outputs": [],
   "source": [
    "in_directory = r\"R:/Work/medieval 2017/FDSI Test/test_set/testset_05_segmentation_masks\"\n",
    "files_to_process_mask = glob.glob(os.path.join(in_directory, '*.png'))\n",
    "files_mask = files_to_process_mask[0:70]\n",
    "masks = []\n",
    "for m in files_mask:\n",
    "    roi_ds = gdal.Open(m, gdal.GA_ReadOnly)\n",
    "    roi = roi_ds.GetRasterBand(1).ReadAsArray()\n",
    "   \n",
    "    if files_to_process_mask is not None:\n",
    "        masks.append(roi)"
   ]
  },
  {
   "cell_type": "code",
   "execution_count": 43,
   "metadata": {
    "collapsed": true
   },
   "outputs": [],
   "source": [
    "TY=np.vstack(masks)\n",
    "T=np.concatenate(TY, axis=0)"
   ]
  },
  {
   "cell_type": "code",
   "execution_count": 44,
   "metadata": {},
   "outputs": [
    {
     "data": {
      "text/plain": [
       "0.68902762276785712"
      ]
     },
     "execution_count": 44,
     "metadata": {},
     "output_type": "execute_result"
    }
   ],
   "source": [
    "accuracy_score(T, test_result)"
   ]
  },
  {
   "cell_type": "code",
   "execution_count": 45,
   "metadata": {
    "collapsed": true
   },
   "outputs": [],
   "source": [
    "in_directory = r\"R:/Work/medieval 2017/FDSI Test/test_set/testset_06_satellite_images\"\n",
    "files_to_process = glob.glob(os.path.join(in_directory, '*.tif'))\n",
    "files = files_to_process[0:70]\n",
    "images = []\n",
    "for f in files:\n",
    "    raster_dataset = gdal.Open(f, gdal.GA_ReadOnly)\n",
    "    img = np.zeros((raster_dataset.RasterYSize, raster_dataset.RasterXSize, raster_dataset.RasterCount),dtype=gdal_array.GDALTypeCodeToNumericTypeCode(raster_dataset.GetRasterBand(1).DataType))\n",
    "    for b in range(raster_dataset.RasterCount):\n",
    "        band = raster_dataset.GetRasterBand(b + 1)\n",
    "        img[:, :, b] = band.ReadAsArray()\n",
    "    if files_to_process is not None:\n",
    "        images.append(img)"
   ]
  },
  {
   "cell_type": "code",
   "execution_count": 46,
   "metadata": {
    "collapsed": true
   },
   "outputs": [],
   "source": [
    "TX =np.vstack(images)\n",
    "test_pixels = np.vstack(TX)"
   ]
  },
  {
   "cell_type": "code",
   "execution_count": 47,
   "metadata": {
    "collapsed": true
   },
   "outputs": [],
   "source": [
    "test_result = ECLF.predict(test_pixels)"
   ]
  },
  {
   "cell_type": "code",
   "execution_count": 48,
   "metadata": {
    "collapsed": true
   },
   "outputs": [],
   "source": [
    "in_directory = r\"R:/Work/medieval 2017/FDSI Test/test_set/testset_06_segmentation_masks\"\n",
    "files_to_process_mask = glob.glob(os.path.join(in_directory, '*.png'))\n",
    "files_mask = files_to_process_mask[0:70]\n",
    "masks = []\n",
    "for m in files_mask:\n",
    "    roi_ds = gdal.Open(m, gdal.GA_ReadOnly)\n",
    "    roi = roi_ds.GetRasterBand(1).ReadAsArray()\n",
    "   \n",
    "    if files_to_process_mask is not None:\n",
    "        masks.append(roi)"
   ]
  },
  {
   "cell_type": "code",
   "execution_count": 49,
   "metadata": {
    "collapsed": true
   },
   "outputs": [],
   "source": [
    "TY=np.vstack(masks)\n",
    "T=np.concatenate(TY, axis=0)"
   ]
  },
  {
   "cell_type": "code",
   "execution_count": 50,
   "metadata": {},
   "outputs": [
    {
     "data": {
      "text/plain": [
       "0.85194069602272726"
      ]
     },
     "execution_count": 50,
     "metadata": {},
     "output_type": "execute_result"
    }
   ],
   "source": [
    "accuracy_score(T, test_result)"
   ]
  },
  {
   "cell_type": "code",
   "execution_count": 51,
   "metadata": {
    "collapsed": true
   },
   "outputs": [],
   "source": [
    "in_directory = r\"R:/Work/medieval 2017/FDSI Test/test_set/testset_07_satellite_images\"\n",
    "files_to_process = glob.glob(os.path.join(in_directory, '*.tif'))\n",
    "files = files_to_process[0:70]\n",
    "images = []\n",
    "for f in files:\n",
    "    raster_dataset = gdal.Open(f, gdal.GA_ReadOnly)\n",
    "    img = np.zeros((raster_dataset.RasterYSize, raster_dataset.RasterXSize, raster_dataset.RasterCount),dtype=gdal_array.GDALTypeCodeToNumericTypeCode(raster_dataset.GetRasterBand(1).DataType))\n",
    "    for b in range(raster_dataset.RasterCount):\n",
    "        band = raster_dataset.GetRasterBand(b + 1)\n",
    "        img[:, :, b] = band.ReadAsArray()\n",
    "    if files_to_process is not None:\n",
    "        images.append(img)"
   ]
  },
  {
   "cell_type": "code",
   "execution_count": 52,
   "metadata": {
    "collapsed": true
   },
   "outputs": [],
   "source": [
    "TX =np.vstack(images)\n",
    "test_pixels = np.vstack(TX)"
   ]
  },
  {
   "cell_type": "code",
   "execution_count": 53,
   "metadata": {
    "collapsed": true
   },
   "outputs": [],
   "source": [
    "test_result = ECLF.predict(test_pixels)"
   ]
  },
  {
   "cell_type": "code",
   "execution_count": 54,
   "metadata": {
    "collapsed": true
   },
   "outputs": [],
   "source": [
    "in_directory = r\"R:/Work/medieval 2017/FDSI Test/test_set/testset_07_segmentation_masks\"\n",
    "files_to_process_mask = glob.glob(os.path.join(in_directory, '*.png'))\n",
    "files_mask = files_to_process_mask[0:70]\n",
    "masks = []\n",
    "for m in files_mask:\n",
    "    roi_ds = gdal.Open(m, gdal.GA_ReadOnly)\n",
    "    roi = roi_ds.GetRasterBand(1).ReadAsArray()\n",
    "   \n",
    "    if files_to_process_mask is not None:\n",
    "        masks.append(roi)"
   ]
  },
  {
   "cell_type": "code",
   "execution_count": 55,
   "metadata": {
    "collapsed": true
   },
   "outputs": [],
   "source": [
    "TY=np.vstack(masks)\n",
    "T=np.concatenate(TY, axis=0)"
   ]
  },
  {
   "cell_type": "code",
   "execution_count": 56,
   "metadata": {},
   "outputs": [
    {
     "data": {
      "text/plain": [
       "0.66907075026939655"
      ]
     },
     "execution_count": 56,
     "metadata": {},
     "output_type": "execute_result"
    }
   ],
   "source": [
    "accuracy_score(T, test_result)"
   ]
  },
  {
   "cell_type": "code",
   "execution_count": 57,
   "metadata": {
    "collapsed": true
   },
   "outputs": [],
   "source": [
    "in_directory = r\"R:/Work/medieval 2017/FDSI Test/test_set/1to6\"\n",
    "files_to_process = glob.glob(os.path.join(in_directory, '*.tif'))\n",
    "files = files_to_process[0:205]\n",
    "images = []\n",
    "for f in files:\n",
    "    raster_dataset = gdal.Open(f, gdal.GA_ReadOnly)\n",
    "    img = np.zeros((raster_dataset.RasterYSize, raster_dataset.RasterXSize, raster_dataset.RasterCount),dtype=gdal_array.GDALTypeCodeToNumericTypeCode(raster_dataset.GetRasterBand(1).DataType))\n",
    "    for b in range(raster_dataset.RasterCount):\n",
    "        band = raster_dataset.GetRasterBand(b + 1)\n",
    "        img[:, :, b] = band.ReadAsArray()\n",
    "    if files_to_process is not None:\n",
    "        images.append(img)"
   ]
  },
  {
   "cell_type": "code",
   "execution_count": 58,
   "metadata": {
    "collapsed": true
   },
   "outputs": [],
   "source": [
    "TX =np.vstack(images)\n",
    "test_pixels = np.vstack(TX)"
   ]
  },
  {
   "cell_type": "code",
   "execution_count": 59,
   "metadata": {
    "collapsed": true
   },
   "outputs": [],
   "source": [
    "test_result = ECLF.predict(test_pixels)"
   ]
  },
  {
   "cell_type": "code",
   "execution_count": 60,
   "metadata": {
    "collapsed": true
   },
   "outputs": [],
   "source": [
    "in_directory = r\"R:/Work/medieval 2017/FDSI Test/test_set/1to6_masks\"\n",
    "files_to_process_mask = glob.glob(os.path.join(in_directory, '*.png'))\n",
    "files_mask = files_to_process_mask[0:205]\n",
    "masks = []\n",
    "for m in files_mask:\n",
    "    roi_ds = gdal.Open(m, gdal.GA_ReadOnly)\n",
    "    roi = roi_ds.GetRasterBand(1).ReadAsArray()\n",
    "   \n",
    "    if files_to_process_mask is not None:\n",
    "        masks.append(roi)"
   ]
  },
  {
   "cell_type": "code",
   "execution_count": 61,
   "metadata": {
    "collapsed": true
   },
   "outputs": [],
   "source": [
    "TY=np.vstack(masks)\n",
    "T=np.concatenate(TY, axis=0)"
   ]
  },
  {
   "cell_type": "code",
   "execution_count": 62,
   "metadata": {},
   "outputs": [
    {
     "data": {
      "text/plain": [
       "0.6626517539449257"
      ]
     },
     "execution_count": 62,
     "metadata": {},
     "output_type": "execute_result"
    }
   ],
   "source": [
    "accuracy_score(T, test_result)"
   ]
  },
  {
   "cell_type": "code",
   "execution_count": null,
   "metadata": {
    "collapsed": true
   },
   "outputs": [],
   "source": []
  },
  {
   "cell_type": "code",
   "execution_count": null,
   "metadata": {
    "collapsed": true
   },
   "outputs": [],
   "source": []
  },
  {
   "cell_type": "code",
   "execution_count": null,
   "metadata": {
    "collapsed": true
   },
   "outputs": [],
   "source": []
  }
 ],
 "metadata": {
  "kernelspec": {
   "display_name": "Python 3",
   "language": "python",
   "name": "python3"
  },
  "language_info": {
   "codemirror_mode": {
    "name": "ipython",
    "version": 3
   },
   "file_extension": ".py",
   "mimetype": "text/x-python",
   "name": "python",
   "nbconvert_exporter": "python",
   "pygments_lexer": "ipython3",
   "version": "3.6.1"
  }
 },
 "nbformat": 4,
 "nbformat_minor": 2
}
